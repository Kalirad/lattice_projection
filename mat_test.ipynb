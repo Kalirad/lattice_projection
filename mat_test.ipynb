{
 "cells": [
  {
   "cell_type": "code",
   "execution_count": 1,
   "id": "6c90f2c4-6b3b-4793-bf58-be6ca0bf51cf",
   "metadata": {},
   "outputs": [],
   "source": [
    "import matplotlib.pyplot as plt\n",
    "import seaborn as sns\n",
    "import itertools as it\n",
    "import scipy as scp\n",
    "import pandas as pd\n",
    "import copy as cp\n",
    "from tqdm import tqdm \n",
    "\n",
    "sns.set_theme(style=\"darkgrid\",context='talk', font_scale=1.1)\n",
    "%matplotlib inline\n",
    "\n",
    "import numpy as np\n",
    "from copy import deepcopy"
   ]
  },
  {
   "cell_type": "code",
   "execution_count": 35,
   "id": "a40bc0a8-dab0-4a8b-aefb-2614c2251223",
   "metadata": {},
   "outputs": [],
   "source": [
    "n = np.array([[100], [100]])"
   ]
  },
  {
   "cell_type": "code",
   "execution_count": 36,
   "id": "d9376409-0595-469b-a1af-473c6ce19ded",
   "metadata": {},
   "outputs": [],
   "source": [
    "p12 = 0.01\n",
    "p21 = 0.01\n",
    "\n",
    "U = np.matrix([[1, -p12],\n",
    "               [-p21, 1]])"
   ]
  },
  {
   "cell_type": "code",
   "execution_count": 37,
   "id": "00c5733e-89a1-4e1a-91dd-dbfb95f4d8a9",
   "metadata": {},
   "outputs": [],
   "source": [
    "n_list = []\n",
    "for i in range(10):\n",
    "    n_list.append(n)\n",
    "    n = np.array(np.matmul(U, n))"
   ]
  },
  {
   "cell_type": "code",
   "execution_count": 38,
   "id": "d5e51394-301f-4544-85d4-ab56855d643f",
   "metadata": {},
   "outputs": [
    {
     "data": {
      "text/plain": [
       "[array([[100],\n",
       "        [100]]),\n",
       " array([[99.],\n",
       "        [99.]]),\n",
       " array([[98.01],\n",
       "        [98.01]]),\n",
       " array([[97.0299],\n",
       "        [97.0299]]),\n",
       " array([[96.059601],\n",
       "        [96.059601]]),\n",
       " array([[95.09900499],\n",
       "        [95.09900499]]),\n",
       " array([[94.14801494],\n",
       "        [94.14801494]]),\n",
       " array([[93.20653479],\n",
       "        [93.20653479]]),\n",
       " array([[92.27446944],\n",
       "        [92.27446944]]),\n",
       " array([[91.35172475],\n",
       "        [91.35172475]])]"
      ]
     },
     "execution_count": 38,
     "metadata": {},
     "output_type": "execute_result"
    }
   ],
   "source": [
    "n_list"
   ]
  },
  {
   "cell_type": "code",
   "execution_count": null,
   "id": "2fa447ce-d9ec-44dd-861c-93dabc961144",
   "metadata": {},
   "outputs": [],
   "source": []
  }
 ],
 "metadata": {
  "kernelspec": {
   "display_name": "Python 3 (ipykernel)",
   "language": "python",
   "name": "python3"
  },
  "language_info": {
   "codemirror_mode": {
    "name": "ipython",
    "version": 3
   },
   "file_extension": ".py",
   "mimetype": "text/x-python",
   "name": "python",
   "nbconvert_exporter": "python",
   "pygments_lexer": "ipython3",
   "version": "3.8.16"
  }
 },
 "nbformat": 4,
 "nbformat_minor": 5
}
