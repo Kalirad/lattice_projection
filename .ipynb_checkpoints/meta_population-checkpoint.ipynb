{
 "cells": [
  {
   "cell_type": "code",
   "execution_count": 1,
   "id": "cd7f5575-a57b-4b38-9af7-a2b81601776e",
   "metadata": {},
   "outputs": [],
   "source": [
    "import matplotlib.pyplot as plt\n",
    "import seaborn as sns\n",
    "import itertools as it\n",
    "import scipy as scp\n",
    "import pandas as pd\n",
    "import copy as cp\n",
    "from tqdm import tqdm \n",
    "\n",
    "sns.set_theme(style=\"darkgrid\",context='talk', font_scale=1.1)\n",
    "%matplotlib inline"
   ]
  },
  {
   "cell_type": "code",
   "execution_count": 2,
   "id": "7bc4b2d7-b666-48c1-83a0-59ad2498ef28",
   "metadata": {},
   "outputs": [],
   "source": [
    "import numpy as np\n",
    "from copy import deepcopy\n",
    "\n",
    "class SAA(object):\n",
    "    def __init__(self, init, prop, stoich):\n",
    "        self.init_cond = deepcopy(init)\n",
    "        self.prop = deepcopy(prop)\n",
    "        self.stoichiometry = deepcopy(stoich)\n",
    "        self.terminate=False\n",
    "        self.rec_times = {k:[] for i, (k,v) in enumerate(self.stoichiometry.items())}\n",
    "        \n",
    "    @property\n",
    "    def propensities(self):\n",
    "        return [i(self.init_cond) for i in self.prop.values()]\n",
    "    \n",
    "    def execute_first_reaction(self):\n",
    "        prop_list = self.propensities\n",
    "        if len(np.nonzero(prop_list)) > 0:\n",
    "            times = [(1/i)*np.log(1/np.random.uniform()) if i > 0 else np.inf for i in prop_list]\n",
    "            next_reaction = np.argmin(times)\n",
    "            #print(next_reaction)\n",
    "            for i in self.init_cond.keys():\n",
    "                if i != 'time':\n",
    "                    self.rec_times[next_reaction].append(times[next_reaction])\n",
    "                    self.init_cond[i].append(self.init_cond[i][-1] + self.stoichiometry[next_reaction][i])\n",
    "                else:\n",
    "                    self.init_cond[i].append(self.init_cond[i][-1] + times[next_reaction])\n",
    "        else:\n",
    "            self.terminate = True\n",
    "                \n",
    "    def simulate(self, step, verbose=False):\n",
    "        for i in tqdm(range(step), disable= not verbose):\n",
    "            self.execute_first_reaction()\n",
    "            if self.terminate:\n",
    "                break"
   ]
  },
  {
   "cell_type": "code",
   "execution_count": 164,
   "id": "79a44504-ba62-41c3-a06d-6e9ee49e3e63",
   "metadata": {},
   "outputs": [],
   "source": [
    "# initial species counts and sojourn times\n",
    "initital_conditions = {\n",
    "    \"R\":[100],\n",
    "    \"E\": [100],\n",
    "    \"J\": [0],\n",
    "    \"A\": [0],\n",
    "    \"dauer\" : [0],\n",
    "    \"Dead\" : [0],\n",
    "    \"time\": [0.0]\n",
    "}\n",
    "\n",
    "a = 1000\n",
    "# propensity functions\n",
    "propensities = {\n",
    "    0: lambda d: 0.1 * d[\"E\"][-1],\n",
    "    1: lambda d: 0.05 * d[\"J\"][-1],\n",
    "    2: lambda d: 0.0 * d[\"E\"][-1],\n",
    "    3: lambda d: 0.0 * d[\"J\"][-1],\n",
    "    4: lambda d: 0.0 * d[\"A\"][-1]\n",
    "}\n",
    "#     8: lambda d: 0.1 * d[\"J\"][-1] if d[\"bacteria\"][-1] < 10 else 0.0,\n",
    "# }\n",
    "\n",
    "\n",
    "# change in species for each propensity\n",
    "stoichiometry = {\n",
    "    0: {\"R\":0, \"E\":-1, \"J\":+1, \"A\": 0, \"dauer\": 0, \"Dead\": 0},\n",
    "    1: {\"R\":0, \"E\": 0, \"J\":-1, \"A\":+1, \"dauer\": 0, \"Dead\": 0},\n",
    "    2: {\"R\":0, \"E\":-1, \"J\": 0, \"A\": 0, \"dauer\": 0, \"Dead\": +1},\n",
    "    3: {\"R\":0, \"E\": 0, \"J\":-1, \"A\": 0, \"dauer\": 0, \"Dead\": +1},\n",
    "    4: {\"R\":0, \"E\": 0, \"J\": 0, \"A\": -1, \"dauer\": 0, \"Dead\": +1}\n",
    "}"
   ]
  },
  {
   "cell_type": "code",
   "execution_count": 103,
   "id": "0d61a1f3-6c9f-45dc-a51f-5b7ab2833acc",
   "metadata": {},
   "outputs": [],
   "source": [
    "meta_pop_conditions = {i:deepcopy(initital_conditions) for i in range(2)}\n",
    "meta_pop_propensities = {i:deepcopy(propensities) for i in range(2)}\n",
    "meta_pop_stoichiometry = {i:deepcopy(stoichiometry) for i in range(2)}"
   ]
  },
  {
   "cell_type": "code",
   "execution_count": 104,
   "id": "340280a9-b3fe-4678-8e46-c8ff0421dd4d",
   "metadata": {},
   "outputs": [],
   "source": [
    "meta_pop_connectivity = {0: (1, 2)}"
   ]
  },
  {
   "cell_type": "code",
   "execution_count": null,
   "id": "d6995034-44d9-407f-af0a-864bae884c53",
   "metadata": {},
   "outputs": [],
   "source": [
    "for i, (k,v) in enumerate(meta_pop_connectivity.items()):\n",
    "    "
   ]
  },
  {
   "cell_type": "code",
   "execution_count": 105,
   "id": "b93765b1-4653-4e04-88c0-2dfdccab5779",
   "metadata": {},
   "outputs": [],
   "source": [
    "meta_pop_diff_pat = {}"
   ]
  },
  {
   "cell_type": "code",
   "execution_count": 106,
   "id": "e0a7016a-c3be-458e-a0d2-fe85a1e04557",
   "metadata": {},
   "outputs": [],
   "source": [
    "for i in meta_pop_connectivity:\n",
    "    curr_ind = len(meta_pop_stoichiometry[i[0]])\n",
    "    meta_pop_stoichiometry[i[0]][curr_ind + 1] = {\"E\": 0, \"J\": 0, \"A\": 0, \"dauer\": -1, \"Dead\": 0}\n",
    "    meta_pop_propensities[i[0]][curr_ind + 1] = lambda d: (meta_pop_conditions[i[1]]['R'][-1]- meta_pop_conditions[i[0]]['R'][-1])/(500 + (meta_pop_conditions[i[1]]['R'][-1]- meta_pop_conditions[i[0]]['R'][-1])) if meta_pop_conditions[i[1]]['R'][-1] >  meta_pop_conditions[i[0]]['R'][-1] else 0.0\n",
    "    meta_pop_stoichiometry[i[1]][curr_ind + 1] = {\"E\": 0, \"J\": 0, \"A\": 0, \"dauer\": +1, \"Dead\": 0}\n",
    "    meta_pop_propensities[i[1]][curr_ind + 1] = lambda d: 0\n",
    "    meta_pop_diff_pat[i[0]] = {curr_ind + 1: i[1]}"
   ]
  },
  {
   "cell_type": "code",
   "execution_count": 96,
   "id": "d0177eeb-b59e-4d1b-8496-4833994f6c14",
   "metadata": {},
   "outputs": [
    {
     "data": {
      "text/plain": [
       "{0: {0: {'E': -1, 'J': 1, 'A': 0, 'dauer': 0, 'Dead': 0},\n",
       "  1: {'E': 0, 'J': -1, 'A': 1, 'dauer': 0, 'Dead': 0},\n",
       "  2: {'E': -1, 'J': 0, 'A': 0, 'dauer': 0, 'Dead': 1},\n",
       "  3: {'E': 0, 'J': -1, 'A': 0, 'dauer': 0, 'Dead': 1},\n",
       "  4: {'E': 0, 'J': 0, 'A': -1, 'dauer': 0, 'Dead': 1},\n",
       "  6: {'E': 0, 'J': 0, 'A': 0, 'dauer': -1, 'Dead': 0}},\n",
       " 1: {0: {'E': -1, 'J': 1, 'A': 0, 'dauer': 0, 'Dead': 0},\n",
       "  1: {'E': 0, 'J': -1, 'A': 1, 'dauer': 0, 'Dead': 0},\n",
       "  2: {'E': -1, 'J': 0, 'A': 0, 'dauer': 0, 'Dead': 1},\n",
       "  3: {'E': 0, 'J': -1, 'A': 0, 'dauer': 0, 'Dead': 1},\n",
       "  4: {'E': 0, 'J': 0, 'A': -1, 'dauer': 0, 'Dead': 1},\n",
       "  6: {'E': 0, 'J': 0, 'A': 0, 'dauer': 1, 'Dead': 0}}}"
      ]
     },
     "execution_count": 96,
     "metadata": {},
     "output_type": "execute_result"
    }
   ],
   "source": [
    "meta_pop_stoichiometry"
   ]
  },
  {
   "cell_type": "code",
   "execution_count": 99,
   "id": "cd9a059d-bc27-4641-8593-daaff42ba64b",
   "metadata": {},
   "outputs": [
    {
     "data": {
      "text/plain": [
       "{0: {0: <function __main__.<lambda>(d)>,\n",
       "  1: <function __main__.<lambda>(d)>,\n",
       "  2: <function __main__.<lambda>(d)>,\n",
       "  3: <function __main__.<lambda>(d)>,\n",
       "  4: <function __main__.<lambda>(d)>,\n",
       "  6: <function __main__.<lambda>(d)>},\n",
       " 1: {0: <function __main__.<lambda>(d)>,\n",
       "  1: <function __main__.<lambda>(d)>,\n",
       "  2: <function __main__.<lambda>(d)>,\n",
       "  3: <function __main__.<lambda>(d)>,\n",
       "  4: <function __main__.<lambda>(d)>,\n",
       "  6: <function __main__.<lambda>(d)>}}"
      ]
     },
     "execution_count": 99,
     "metadata": {},
     "output_type": "execute_result"
    }
   ],
   "source": [
    "[for meta_pop_propensities"
   ]
  },
  {
   "cell_type": "code",
   "execution_count": null,
   "id": "e56b134d-11f3-4bfe-9407-5f8b2407a216",
   "metadata": {},
   "outputs": [],
   "source": [
    " return [i(self.init_cond) for i in self.prop.values()]"
   ]
  },
  {
   "cell_type": "code",
   "execution_count": 115,
   "id": "bf9f566e-0803-45c8-ab0d-49918c853d57",
   "metadata": {},
   "outputs": [
    {
     "data": {
      "text/plain": [
       "(2, 6)"
      ]
     },
     "execution_count": 115,
     "metadata": {},
     "output_type": "execute_result"
    }
   ],
   "source": [
    "np.array([[i(meta_pop_conditions[j]) for i in meta_pop_propensities[j].values()] for j in meta_pop_conditions.keys()]).shape"
   ]
  },
  {
   "cell_type": "code",
   "execution_count": 172,
   "id": "42cd747e-696e-43f8-a7ee-753ba0b462ca",
   "metadata": {},
   "outputs": [],
   "source": [
    "prop_list = np.array([[i(meta_pop_conditions[j]) for i in meta_pop_propensities[j].values()] for j in meta_pop_conditions.keys()])"
   ]
  },
  {
   "cell_type": "code",
   "execution_count": 180,
   "id": "ffdad6e7-8340-43cf-977d-33f06661f9a1",
   "metadata": {},
   "outputs": [
    {
     "data": {
      "text/plain": [
       "(array([0, 1]), array([0, 0]))"
      ]
     },
     "execution_count": 180,
     "metadata": {},
     "output_type": "execute_result"
    }
   ],
   "source": [
    "np.nonzero(prop_list)"
   ]
  },
  {
   "cell_type": "code",
   "execution_count": 156,
   "id": "1afc4a1c-981b-4d92-99c2-8b3f3c8ed33b",
   "metadata": {},
   "outputs": [],
   "source": [
    "times = np.array([[(1/i)*np.log(1/np.random.uniform()) if i > 0 else np.inf for i in j] for j in prop_list])"
   ]
  },
  {
   "cell_type": "code",
   "execution_count": 157,
   "id": "02834f1e-5a88-4ae4-8398-00547bba65c9",
   "metadata": {},
   "outputs": [
    {
     "data": {
      "text/plain": [
       "array([[0.39717778,        inf,        inf,        inf,        inf,\n",
       "               inf],\n",
       "       [0.06055715,        inf,        inf,        inf,        inf,\n",
       "               inf]])"
      ]
     },
     "execution_count": 157,
     "metadata": {},
     "output_type": "execute_result"
    }
   ],
   "source": [
    "times"
   ]
  },
  {
   "cell_type": "code",
   "execution_count": 144,
   "id": "a856a33c-fc6c-4613-91ff-3a39279dc3f3",
   "metadata": {},
   "outputs": [
    {
     "data": {
      "text/plain": [
       "0"
      ]
     },
     "execution_count": 144,
     "metadata": {},
     "output_type": "execute_result"
    }
   ],
   "source": [
    "np.argmin(times)"
   ]
  },
  {
   "cell_type": "code",
   "execution_count": 158,
   "id": "e78eda40-5d4e-42c8-859a-d279a1d75554",
   "metadata": {},
   "outputs": [
    {
     "data": {
      "text/plain": [
       "(1, 0)"
      ]
     },
     "execution_count": 158,
     "metadata": {},
     "output_type": "execute_result"
    }
   ],
   "source": [
    "np.unravel_index(times.argmin(), times.shape)"
   ]
  },
  {
   "cell_type": "code",
   "execution_count": 168,
   "id": "eda44f4a-ade0-40fc-a73b-ffeebeffad00",
   "metadata": {},
   "outputs": [],
   "source": [
    "class MetaPop(object):\n",
    "    \n",
    "    def __init__(self, init, prop, stoich, n_pop, conn_patt):\n",
    "        self.meta_pop_conditions = {i:deepcopy(initital_conditions) for i in range(n_pop)}\n",
    "        self.meta_pop_propensities = {i:deepcopy(propensities) for i in range(n_pop)}\n",
    "        self.meta_pop_stoichiometry = {i:deepcopy(stoichiometry) for i in range(n_pop)}\n",
    "        self.meta_pop_conn_patt = {}\n",
    "        for i in conn_patt:\n",
    "            curr_ind_i = len(self.meta_pop_stoichiometry[i[0]])\n",
    "            # i -> j\n",
    "            self.meta_pop_stoichiometry[i[0]][curr_ind_i + 1] = {\"E\": 0, \"J\": 0, \"A\": 0, \"dauer\": -1, \"Dead\": 0}\n",
    "            self.meta_pop_propensities[i[0]][curr_ind_i + 1] = lambda d: (self.meta_pop_conditions[i[1]]['R'][-1]- self.meta_pop_conditions[i[0]]['R'][-1])/(500 + (self.meta_pop_conditions[i[1]]['R'][-1]- self.meta_pop_conditions[i[0]]['R'][-1])) \\\n",
    "                                                                        if self.meta_pop_conditions[i[1]]['R'][-1] >  self.meta_pop_conditions[i[0]]['R'][-1] else 0.0\n",
    "            curr_ind_j = len(self.meta_pop_stoichiometry[i[1]])\n",
    "            self.meta_pop_stoichiometry[i[1]][curr_ind_j + 1] = {\"E\": 0, \"J\": 0, \"A\": 0, \"dauer\": +1, \"Dead\": 0}\n",
    "            self.meta_pop_propensities[i[1]][curr_ind_j + 1] = lambda d: 0\n",
    "            self.meta_pop_conn_patt[i[0]] = {curr_ind_i + 1: (i[1], curr_ind_j)}\n",
    "            \n",
    "    @property\n",
    "    def propensities(self):\n",
    "        return np.array([[i(self.meta_pop_conditions[j]) for i in self.meta_pop_propensities[j].values()] for j in self.meta_pop_conditions.keys()])\n",
    "    \n",
    "    def execute_first_reaction(self):\n",
    "        prop_list = self.propensities\n",
    "        non_zeros = [i for i,j in enumerate(prop_list) if j > 0]\n",
    "        if len(non_zeros) > 0:\n",
    "            times = [(1/i)*np.log(1/np.random.uniform()) if i > 0 else np.inf for i in prop_list]\n",
    "            next_reaction = np.argmin(times)\n",
    "            #print(next_reaction)\n",
    "            for i in self.init_cond.keys():\n",
    "                if i != 'time':\n",
    "                    self.rec_times[next_reaction].append(times[next_reaction])\n",
    "                    self.init_cond[i].append(self.init_cond[i][-1] + self.stoichiometry[next_reaction][i])\n",
    "                else:\n",
    "                    self.init_cond[i].append(self.init_cond[i][-1] + times[next_reaction])\n",
    "        else:\n",
    "            self.terminate = True"
   ]
  },
  {
   "cell_type": "code",
   "execution_count": 169,
   "id": "d4704552-3700-42df-bbcd-29db765ff332",
   "metadata": {},
   "outputs": [],
   "source": [
    "test = MetaPop(initital_conditions, propensities, stoichiometry, 2, [(0,1),(1,0)])"
   ]
  },
  {
   "cell_type": "code",
   "execution_count": 170,
   "id": "4c706fe1-c0ad-4210-a7c1-2cedf51fc11a",
   "metadata": {},
   "outputs": [
    {
     "data": {
      "text/plain": [
       "{0: {0: {'R': 0, 'E': -1, 'J': 1, 'A': 0, 'dauer': 0, 'Dead': 0},\n",
       "  1: {'R': 0, 'E': 0, 'J': -1, 'A': 1, 'dauer': 0, 'Dead': 0},\n",
       "  2: {'R': 0, 'E': -1, 'J': 0, 'A': 0, 'dauer': 0, 'Dead': 1},\n",
       "  3: {'R': 0, 'E': 0, 'J': -1, 'A': 0, 'dauer': 0, 'Dead': 1},\n",
       "  4: {'R': 0, 'E': 0, 'J': 0, 'A': -1, 'dauer': 0, 'Dead': 1},\n",
       "  6: {'E': 0, 'J': 0, 'A': 0, 'dauer': -1, 'Dead': 0},\n",
       "  7: {'E': 0, 'J': 0, 'A': 0, 'dauer': 1, 'Dead': 0}},\n",
       " 1: {0: {'R': 0, 'E': -1, 'J': 1, 'A': 0, 'dauer': 0, 'Dead': 0},\n",
       "  1: {'R': 0, 'E': 0, 'J': -1, 'A': 1, 'dauer': 0, 'Dead': 0},\n",
       "  2: {'R': 0, 'E': -1, 'J': 0, 'A': 0, 'dauer': 0, 'Dead': 1},\n",
       "  3: {'R': 0, 'E': 0, 'J': -1, 'A': 0, 'dauer': 0, 'Dead': 1},\n",
       "  4: {'R': 0, 'E': 0, 'J': 0, 'A': -1, 'dauer': 0, 'Dead': 1},\n",
       "  6: {'E': 0, 'J': 0, 'A': 0, 'dauer': 1, 'Dead': 0},\n",
       "  7: {'E': 0, 'J': 0, 'A': 0, 'dauer': -1, 'Dead': 0}}}"
      ]
     },
     "execution_count": 170,
     "metadata": {},
     "output_type": "execute_result"
    }
   ],
   "source": [
    "test.meta_pop_stoichiometry"
   ]
  },
  {
   "cell_type": "code",
   "execution_count": 171,
   "id": "8e0673c2-8694-49f9-8197-16b1a3f36eb8",
   "metadata": {},
   "outputs": [
    {
     "data": {
      "text/plain": [
       "{0: {6: (1, 5)}, 1: {7: (0, 6)}}"
      ]
     },
     "execution_count": 171,
     "metadata": {},
     "output_type": "execute_result"
    }
   ],
   "source": [
    "test.meta_pop_conn_patt"
   ]
  },
  {
   "cell_type": "code",
   "execution_count": null,
   "id": "d005fce0-0f8b-4067-9aac-60db61ad20c2",
   "metadata": {},
   "outputs": [],
   "source": []
  },
  {
   "cell_type": "code",
   "execution_count": null,
   "id": "2722a1ff-47dd-41c3-a075-4e02c34198d9",
   "metadata": {},
   "outputs": [],
   "source": []
  },
  {
   "cell_type": "code",
   "execution_count": 58,
   "id": "b86e5d54-cdee-4be8-90fd-66d705779834",
   "metadata": {},
   "outputs": [
    {
     "data": {
      "text/plain": [
       "[Text(0.5, 0, '$\\\\Delta(R1, R2)$'), Text(0, 0.5, 'D')]"
      ]
     },
     "execution_count": 58,
     "metadata": {},
     "output_type": "execute_result"
    },
    {
     "data": {
      "image/png": "[encoded data removed]",
      "text/plain": [
       "<Figure size 1000x500 with 2 Axes>"
      ]
     },
     "metadata": {},
     "output_type": "display_data"
    }
   ],
   "source": [
    "fig, axes = plt.subplots(\n",
    "    nrows=1,\n",
    "    ncols=2,\n",
    "    figsize=(10, 5),constrained_layout=True)\n",
    "\n",
    "axes = axes.flatten()\n",
    "\n",
    "grad_1 = np.linspace(10, 2000)\n",
    "grad_2 = [300 for i in range(len(grad_1))]\n",
    "x = range(len(grad_1))\n",
    "axes[0].plot(x, grad_1)\n",
    "axes[0].plot(x, grad_2)\n",
    "\n",
    "axes[1].plot(x, [func(i,j) for i,j in zip(grad_2, grad_1)])\n",
    "\n",
    "axes[0].set(xlabel='Time', ylabel='R')\n",
    "\n",
    "axes[1].set(xlabel=r'$\\Delta(R1, R2)$', ylabel='D')"
   ]
  },
  {
   "cell_type": "code",
   "execution_count": 12,
   "id": "ebf5e81c-8ed7-481f-92ab-9862c5cae9b5",
   "metadata": {},
   "outputs": [],
   "source": [
    "meta_pop_conditions = {i:deepcopy(initital_conditions) for i in range(2)}"
   ]
  },
  {
   "cell_type": "code",
   "execution_count": 22,
   "id": "965f7927-0aa6-4255-ae92-6613413994c4",
   "metadata": {},
   "outputs": [],
   "source": [
    "neighbourhood = {0: (1, 2), 1: (0, 2)}"
   ]
  },
  {
   "cell_type": "code",
   "execution_count": 18,
   "id": "c45a4d19-9dad-446d-8faf-854570c074cf",
   "metadata": {},
   "outputs": [],
   "source": [
    "stoichiometry = {\n",
    "    0: {\"E\":-1, \"J\":+1, \"A\": 0, \"dauer\": 0, \"Dead\": 0},\n",
    "    1: {\"E\": 0, \"J\":-1, \"A\":+1, \"dauer\": 0, \"Dead\": 0},\n",
    "    2: {\"E\":-1, \"J\": 0, \"A\": 0, \"dauer\": 0, \"Dead\": +1},\n",
    "    3: {\"E\": 0, \"J\":-1, \"A\": 0, \"dauer\": 0, \"Dead\": +1},\n",
    "    4: {\"E\": 0, \"J\": 0, \"A\": -1, \"dauer\": 0, \"Dead\": +1}\n",
    "}"
   ]
  },
  {
   "cell_type": "code",
   "execution_count": 23,
   "id": "93206430-e418-4079-87da-ef53a9239048",
   "metadata": {},
   "outputs": [],
   "source": [
    "emig = {\"E\": 0, \"J\": 0, \"A\": 0, \"dauer\": -1, \"Dead\": +1}\n",
    "mig  = {\"E\": 0, \"J\": 0, \"A\": 0, \"dauer\": +1, \"Dead\": +1}"
   ]
  },
  {
   "cell_type": "code",
   "execution_count": 26,
   "id": "9d81dc18-9587-4333-b973-bb5048efa655",
   "metadata": {},
   "outputs": [],
   "source": [
    "for i in neighbourhood[0]:\n",
    "    curr_ind = len(stoichiometry)\n",
    "    stoichiometry[curr_ind + 1] = mig"
   ]
  },
  {
   "cell_type": "code",
   "execution_count": 27,
   "id": "2c26bc3b-dd2f-4222-8d69-6a2898aee8e4",
   "metadata": {},
   "outputs": [
    {
     "data": {
      "text/plain": [
       "{0: {'E': -1, 'J': 1, 'A': 0, 'dauer': 0, 'Dead': 0},\n",
       " 1: {'E': 0, 'J': -1, 'A': 1, 'dauer': 0, 'Dead': 0},\n",
       " 2: {'E': -1, 'J': 0, 'A': 0, 'dauer': 0, 'Dead': 1},\n",
       " 3: {'E': 0, 'J': -1, 'A': 0, 'dauer': 0, 'Dead': 1},\n",
       " 4: {'E': 0, 'J': 0, 'A': -1, 'dauer': 0, 'Dead': 1},\n",
       " 6: {'E': 0, 'J': 0, 'A': 0, 'dauer': 1, 'Dead': 1},\n",
       " 7: {'E': 0, 'J': 0, 'A': 0, 'dauer': 1, 'Dead': 1}}"
      ]
     },
     "execution_count": 27,
     "metadata": {},
     "output_type": "execute_result"
    }
   ],
   "source": [
    "stoichiometry"
   ]
  },
  {
   "cell_type": "code",
   "execution_count": null,
   "id": "acce682a-d4a0-4b39-adb4-d5bffa3d0a00",
   "metadata": {},
   "outputs": [],
   "source": []
  },
  {
   "cell_type": "code",
   "execution_count": null,
   "id": "7b4f2b32-f1b1-4145-9bb6-fdcbaabfb6fc",
   "metadata": {},
   "outputs": [],
   "source": []
  },
  {
   "cell_type": "code",
   "execution_count": null,
   "id": "9cdb37a0-0b75-4e60-b591-b2e77695066c",
   "metadata": {},
   "outputs": [],
   "source": []
  }
 ],
 "metadata": {
  "kernelspec": {
   "display_name": "Python 3 (ipykernel)",
   "language": "python",
   "name": "python3"
  },
  "language_info": {
   "codemirror_mode": {
    "name": "ipython",
    "version": 3
   },
   "file_extension": ".py",
   "mimetype": "text/x-python",
   "name": "python",
   "nbconvert_exporter": "python",
   "pygments_lexer": "ipython3",
   "version": "3.8.16"
  }
 },
 "nbformat": 4,
 "nbformat_minor": 5
}
